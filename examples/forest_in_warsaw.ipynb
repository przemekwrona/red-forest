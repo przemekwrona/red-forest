{
 "cells": [
  {
   "cell_type": "code",
   "execution_count": 6,
   "id": "8db46050db82c235",
   "metadata": {
    "ExecuteTime": {
     "end_time": "2024-11-15T20:05:13.387895Z",
     "start_time": "2024-11-15T20:05:11.113543Z"
    },
    "collapsed": false,
    "jupyter": {
     "outputs_hidden": false
    }
   },
   "outputs": [],
   "source": [
    "import folium\n",
    "from red_forest.io.file_processor import FileProcessor"
   ]
  },
  {
   "cell_type": "markdown",
   "id": "f4886c8a-054e-49b4-81ab-31473cc67719",
   "metadata": {},
   "source": [
    "### Load Warsaw OSM data"
   ]
  },
  {
   "cell_type": "code",
   "execution_count": 7,
   "id": "48f688c3-6187-4e4b-9e21-39e8bdef6334",
   "metadata": {},
   "outputs": [],
   "source": [
    "warsaw_map = folium.Map(location=(52.23, 21.01), zoom_start=11, tiles=\"cartodb positron\")"
   ]
  },
  {
   "cell_type": "code",
   "execution_count": 8,
   "id": "a40b437a-359d-495e-8fa3-f0d9ca90f65a",
   "metadata": {},
   "outputs": [
    {
     "name": "stdout",
     "output_type": "stream",
     "text": [
      "{'color': '#008000', 'fillOpacity': 0.5}\n"
     ]
    }
   ],
   "source": [
    "FileProcessor(\"warszawa.pbf\") \\\n",
    "        .with_tag((\"landuse\", \"forest\")) \\\n",
    "        .with_areas() \\\n",
    "        .with_config({\"color\": \"#008000\", \"fillOpacity\": .5}) \\\n",
    "        .plot(folium_map=warsaw_map)\n"
   ]
  },
  {
   "cell_type": "code",
   "execution_count": 9,
   "id": "2832ad51-c134-4040-a3f6-9733efbc25b0",
   "metadata": {},
   "outputs": [],
   "source": [
    "warsaw_map.save(\"warsaw.html\")"
   ]
  }
 ],
 "metadata": {
  "kernelspec": {
   "display_name": "Python 3 (ipykernel)",
   "language": "python",
   "name": "python3"
  },
  "language_info": {
   "codemirror_mode": {
    "name": "ipython",
    "version": 3
   },
   "file_extension": ".py",
   "mimetype": "text/x-python",
   "name": "python",
   "nbconvert_exporter": "python",
   "pygments_lexer": "ipython3",
   "version": "3.9.6"
  }
 },
 "nbformat": 4,
 "nbformat_minor": 5
}
